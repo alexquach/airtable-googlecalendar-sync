{
 "metadata": {
  "language_info": {
   "codemirror_mode": {
    "name": "ipython",
    "version": 3
   },
   "file_extension": ".py",
   "mimetype": "text/x-python",
   "name": "python",
   "nbconvert_exporter": "python",
   "pygments_lexer": "ipython3",
   "version": "3.6.9-final"
  },
  "orig_nbformat": 2,
  "kernelspec": {
   "name": "python3",
   "display_name": "Python 3.6.9 64-bit ('airtable-scripts': pipenv)",
   "metadata": {
    "interpreter": {
     "hash": "2eb49e82bcaff456d6ca974a45cc906ec9e68633fec9f44c05b7ce8b699cf81c"
    }
   }
  }
 },
 "nbformat": 4,
 "nbformat_minor": 2,
 "cells": [
  {
   "cell_type": "code",
   "execution_count": null,
   "metadata": {},
   "outputs": [],
   "source": [
    "import cal\n",
    "import os\n",
    "CALENDAR_ID = os.getenv('CALENDAR_ID')\n",
    "c = cal.calendar(CALENDAR_ID)\n",
    "body = {}\n",
    "body['id'] = '20aa7ea9-3f00-4a71-9c77-014fe412f548'\n",
    "body['type'] = 'web_hook'\n",
    "body['address'] = 'https://gcal-webhook.herokuapp.com'\n",
    "#body\n",
    "#{'id': '20aa7ea9-3f00-4a71-9c77-014fe412f548', 'type': 'web_hook', 'address': 'https://gcal-webhook.herokuapp.com'}\n",
    "#c.service.events().watch(calendarId=CALENDAR_ID, body=body).execute()\n",
    "#{'kind': 'api#channel', 'id': '20aa7ea9-3f00-4a71-9c77-014fe412f548', 'resourceId': 'qEh889VPYGCpAQprjyRLT6JGGko', 'resourceUri': 'https://www.googleapis.com/calendar/v3/calendars/fr072aotu2mfr1lhslinj4ch0k%40group.calendar.google.com/events?alt=json', 'expiration': '1606784066000'}"
   ]
  },
  {
   "cell_type": "code",
   "execution_count": null,
   "metadata": {},
   "outputs": [],
   "source": [
    "import cal\n",
    "import os\n",
    "\n",
    "CALENDAR_ID = os.getenv('CALENDAR_ID')\n",
    "c = cal.calendar(CALENDAR_ID)\n",
    "\n",
    "events = c.service.events().list(calendarId=CALENDAR_ID).execute()\n",
    "\n",
    "unwanted = [\"Backup Notes (iPhone)\", \"Binge Linear\", \"Clean Tabs (Mac)\"]\n",
    "\n",
    "for event in events['items']:\n",
    "    if event['summary'] in unwanted:\n",
    "        event_id = event['id']\n",
    "        time.sleep(1)\n",
    "        if event['status'] == 'confirmed':\n",
    "            try:\n",
    "                print(event['summary'])\n",
    "                c.service.events().delete(calendarId=CALENDAR_ID, eventId=event_id).execute()\n",
    "            except googleapiclient.errors.HttpError:\n",
    "                print('error')\n",
    "        else:\n",
    "            print('repeat')\n",
    "\n",
    "CigKGmhwY245cWlpZ2VzbWVkM2QwMm51NzkyYXBvGAEggICApJXQnqsXGg8IABIAGIiF69-Qmu0CIAEiBwgCEOWdwg0=\n",
    "events = c.service.events().list(calendarId=CALENDAR_ID, pageToken='CigKGmhwY245cWlpZ2VzbWVkM2QwMm51NzkyYXBvGAEggICApJXQnqsXGg8IABIAGIiF69-Qmu0CIAEiBwgCEOWdwg0=').execute()\n",
    "\n",
    "CigKGmpqaXYwbmk4MmRpNnE5MjdxOWEzZGc4Zmo4GAEggIDAiL-Sn6sXGg8IABIAGIiF69-Qmu0CIAEiBwgCEPGfwg0=\n",
    "events = c.service.events().list(calendarId=CALENDAR_ID, \n",
    "pageToken='CigKGm00bjkzc2JhMjFqN2pjNmhtbGhxOXJqbTVzGAEggIDAxsTL4K8XGg8IABIAGJCGpauYmu0CIAEiBwgCELKtwg0=').execute()\n",
    "\n",
    "for e in events['items']: print(e['summary'])\n",
    "\n",
    "while events.get('nextPageToken'):\n",
    "    print(events.keys())\n",
    "    print(len(events['items']))\n",
    "    time.sleep(1)\n",
    "    events = events = c.service.events().list(calendarId=CALENDAR_ID, pageToken=events['nextPageToken']).execute()\n",
    "events['nextSyncToken']\n",
    "\n",
    "CMCWydP9ou0CEMCWydP9ou0CGAQ=\n",
    "events = c.service.events().list(calendarId=CALENDAR_ID, syncToken='CMCWydP9ou0CEMCWydP9ou0CGAQ=').execute()\n",
    "CKjBhuvho-0CEKjBhuvho-0CGAQ=\n",
    "\n",
    "gsvoinkechida2nq2a03din9rs\n",
    "c.service.events().get(calendarId=CALENDAR_ID, eventId='gsvoinkechida2nq2a03din9rs').execute()\n",
    "'CJir76_Ype0CEJir76_Ype0CGAQ='\n",
    "\n",
    "{'kind': 'calendar#event', 'etag': '\"3213170426106000\"', 'id': 'iiejljkhegjluspu838pjiq4lc', 'status': 'confirmed', 'htmlLink': 'https://www.google.com/calendar/event?eid=aWllamxqa2hlZ2psdXNwdTgzOHBqaXE0bGMgZnIwNzJhb3R1Mm1mcjFsaHNsaW5qNGNoMGtAZw', 'created': '2020-11-28T03:43:30.000Z', 'updated': '2020-11-28T17:40:13.053Z', 'summary': 'Glasswing one pager', 'description': 'recGDsfRedbum9aZy s3', 'creator': {'email': 'awslambda@quickstart-1557032973154.iam.gserviceaccount.com'}, 'organizer': {'email': 'fr072aotu2mfr1lhslinj4ch0k@group.calendar.google.com', 'displayName': 'Airtable Tasks', 'self': True}, 'start': {'dateTime': '2020-11-28T13:30:00-05:00', 'timeZone': 'UTC'}, 'end': {'dateTime': '2020-11-28T14:00:00-05:00', 'timeZone': 'UTC'}, 'iCalUID': 'iiejljkhegjluspu838pjiq4lc@google.com', 'sequence': 10, 'reminders': {'useDefault': True}}\n",
    "\n",
    "result = db.session.query(app.Snapshot).all()"
   ]
  },
  {
   "cell_type": "code",
   "execution_count": null,
   "metadata": {},
   "outputs": [],
   "source": [
    "import cal\n",
    "import os\n",
    "CALENDAR_ID = os.getenv('CALENDAR_ID')\n",
    "c = cal.calendar(CALENDAR_ID)\n",
    "body = {\n",
    "    'id': '20aa7ea9-3f00-4a71-9c77-014fe412f550',\n",
    "    'type': 'web_hook',\n",
    "    'address': 'https://gcal-webhook.herokuapp.com/webhook',\n",
    "    'expiration': 1609471844000\n",
    "}\n",
    "c.service.events().watch(calendarId=CALENDAR_ID, body=body).execute()\n",
    "\n",
    "{'kind': 'api#channel', 'id': '20aa7ea9-3f00-4a71-9c77-014fe412f550', 'resourceId': 'qEh889VPYGCpAQprjyRLT6JGGko', 'resourceUri': 'https://www.googleapis.com/calendar/v3/calendars/fr072aotu2mfr1lhslinj4ch0k%40group.calendar.google.com/events?alt=json', 'expiration': '1609385622000'}\n"
   ]
  },
  {
   "cell_type": "code",
   "execution_count": 3,
   "metadata": {},
   "outputs": [
    {
     "output_type": "error",
     "ename": "ModuleNotFoundError",
     "evalue": "No module named 'calendar_request'",
     "traceback": [
      "\u001b[0;31m---------------------------------------------------------------------------\u001b[0m",
      "\u001b[0;31mModuleNotFoundError\u001b[0m                       Traceback (most recent call last)",
      "\u001b[0;32m<ipython-input-3-9697e4c92852>\u001b[0m in \u001b[0;36m<module>\u001b[0;34m\u001b[0m\n\u001b[0;32m----> 1\u001b[0;31m \u001b[0;32mimport\u001b[0m \u001b[0mcalendar_request\u001b[0m \u001b[0;32mas\u001b[0m \u001b[0mcal\u001b[0m\u001b[0;34m\u001b[0m\u001b[0;34m\u001b[0m\u001b[0m\n\u001b[0m\u001b[1;32m      2\u001b[0m \u001b[0;32mimport\u001b[0m \u001b[0mos\u001b[0m\u001b[0;34m\u001b[0m\u001b[0;34m\u001b[0m\u001b[0m\n\u001b[1;32m      3\u001b[0m \u001b[0mCALENDAR_ID\u001b[0m \u001b[0;34m=\u001b[0m \u001b[0mos\u001b[0m\u001b[0;34m.\u001b[0m\u001b[0mgetenv\u001b[0m\u001b[0;34m(\u001b[0m\u001b[0;34m'CALENDAR_ID'\u001b[0m\u001b[0;34m)\u001b[0m\u001b[0;34m\u001b[0m\u001b[0;34m\u001b[0m\u001b[0m\n\u001b[1;32m      4\u001b[0m \u001b[0mc\u001b[0m \u001b[0;34m=\u001b[0m \u001b[0mcal\u001b[0m\u001b[0;34m.\u001b[0m\u001b[0mCalendar\u001b[0m\u001b[0;34m(\u001b[0m\u001b[0mCALENDAR_ID\u001b[0m\u001b[0;34m)\u001b[0m\u001b[0;34m\u001b[0m\u001b[0;34m\u001b[0m\u001b[0m\n\u001b[1;32m      5\u001b[0m body = {\n",
      "\u001b[0;31mModuleNotFoundError\u001b[0m: No module named 'calendar_request'"
     ]
    }
   ],
   "source": [
    "import calendar_request as cal\n",
    "import os\n",
    "CALENDAR_ID = os.getenv('CALENDAR_ID')\n",
    "c = cal.Calendar(CALENDAR_ID)\n",
    "body = {\n",
    "    'id': '20aa7ea9-3f00-4a71-9c77-014fe412f551',\n",
    "    'type': 'web_hook',\n",
    "    'address': 'https://gcal-webhook.herokuapp.com/webhook',\n",
    "    'expiration': 1641060000000\n",
    "}\n",
    "c.service.events().watch(calendarId=CALENDAR_ID, body=body).execute()\n",
    "\n",
    "{'kind': 'api#channel', 'id': '20aa7ea9-3f00-4a71-9c77-014fe412f551', 'resourceId': 'qEh889VPYGCpAQprjyRLT6JGGko', 'resourceUri': 'https://www.googleapis.com/calendar/v3/calendars/fr072aotu2mfr1lhslinj4ch0k%40group.calendar.google.com/events?alt=json', 'expiration': '1612022512000'}"
   ]
  },
  {
   "cell_type": "code",
   "execution_count": 2,
   "metadata": {},
   "outputs": [
    {
     "output_type": "error",
     "ename": "FileNotFoundError",
     "evalue": "[Errno 2] No such file or directory: './service-account-credentials.json'",
     "traceback": [
      "\u001b[0;31m---------------------------------------------------------------------------\u001b[0m",
      "\u001b[0;31mFileNotFoundError\u001b[0m                         Traceback (most recent call last)",
      "\u001b[0;32m<ipython-input-2-c020fee123ce>\u001b[0m in \u001b[0;36m<module>\u001b[0;34m\u001b[0m\n\u001b[1;32m      2\u001b[0m \u001b[0;32mimport\u001b[0m \u001b[0mos\u001b[0m\u001b[0;34m\u001b[0m\u001b[0;34m\u001b[0m\u001b[0m\n\u001b[1;32m      3\u001b[0m \u001b[0mCALENDAR_ID\u001b[0m \u001b[0;34m=\u001b[0m \u001b[0mos\u001b[0m\u001b[0;34m.\u001b[0m\u001b[0mgetenv\u001b[0m\u001b[0;34m(\u001b[0m\u001b[0;34m'CALENDAR_ID'\u001b[0m\u001b[0;34m)\u001b[0m\u001b[0;34m\u001b[0m\u001b[0;34m\u001b[0m\u001b[0m\n\u001b[0;32m----> 4\u001b[0;31m \u001b[0mc\u001b[0m \u001b[0;34m=\u001b[0m \u001b[0mcal\u001b[0m\u001b[0;34m.\u001b[0m\u001b[0mCalendar\u001b[0m\u001b[0;34m(\u001b[0m\u001b[0mCALENDAR_ID\u001b[0m\u001b[0;34m)\u001b[0m\u001b[0;34m\u001b[0m\u001b[0;34m\u001b[0m\u001b[0m\n\u001b[0m\u001b[1;32m      5\u001b[0m body = {\n\u001b[1;32m      6\u001b[0m     \u001b[0;34m'id'\u001b[0m\u001b[0;34m:\u001b[0m \u001b[0;34m'20aa7ea9-3f00-4a71-9c77-014fe412f551'\u001b[0m\u001b[0;34m,\u001b[0m\u001b[0;34m\u001b[0m\u001b[0;34m\u001b[0m\u001b[0m\n",
      "\u001b[0;32m/mnt/c/Users/alexh/Desktop/hack/airtable-scripts/src/calendar_request.py\u001b[0m in \u001b[0;36m__init__\u001b[0;34m(self, calendar_id)\u001b[0m\n\u001b[1;32m     34\u001b[0m         \u001b[0mself\u001b[0m\u001b[0;34m.\u001b[0m\u001b[0mcalendar_id\u001b[0m \u001b[0;34m=\u001b[0m \u001b[0mcalendar_id\u001b[0m\u001b[0;34m\u001b[0m\u001b[0;34m\u001b[0m\u001b[0m\n\u001b[1;32m     35\u001b[0m         self.credentials = service_account.Credentials.from_service_account_file(\n\u001b[0;32m---> 36\u001b[0;31m             SERVICE_ACCOUNT_FILE, scopes=SCOPES)\n\u001b[0m\u001b[1;32m     37\u001b[0m \u001b[0;34m\u001b[0m\u001b[0m\n\u001b[1;32m     38\u001b[0m         \u001b[0mself\u001b[0m\u001b[0;34m.\u001b[0m\u001b[0mservice\u001b[0m \u001b[0;34m=\u001b[0m \u001b[0mbuild\u001b[0m\u001b[0;34m(\u001b[0m\u001b[0;34m'calendar'\u001b[0m\u001b[0;34m,\u001b[0m \u001b[0;34m'v3'\u001b[0m\u001b[0;34m,\u001b[0m \u001b[0mcredentials\u001b[0m\u001b[0;34m=\u001b[0m\u001b[0mself\u001b[0m\u001b[0;34m.\u001b[0m\u001b[0mcredentials\u001b[0m\u001b[0;34m)\u001b[0m\u001b[0;34m\u001b[0m\u001b[0;34m\u001b[0m\u001b[0m\n",
      "\u001b[0;32m~/.local/share/virtualenvs/airtable-scripts-oewuQlhV/lib/python3.6/site-packages/google/oauth2/service_account.py\u001b[0m in \u001b[0;36mfrom_service_account_file\u001b[0;34m(cls, filename, **kwargs)\u001b[0m\n\u001b[1;32m    226\u001b[0m         \"\"\"\n\u001b[1;32m    227\u001b[0m         info, signer = _service_account_info.from_filename(\n\u001b[0;32m--> 228\u001b[0;31m             \u001b[0mfilename\u001b[0m\u001b[0;34m,\u001b[0m \u001b[0mrequire\u001b[0m\u001b[0;34m=\u001b[0m\u001b[0;34m[\u001b[0m\u001b[0;34m\"client_email\"\u001b[0m\u001b[0;34m,\u001b[0m \u001b[0;34m\"token_uri\"\u001b[0m\u001b[0;34m]\u001b[0m\u001b[0;34m\u001b[0m\u001b[0;34m\u001b[0m\u001b[0m\n\u001b[0m\u001b[1;32m    229\u001b[0m         )\n\u001b[1;32m    230\u001b[0m         \u001b[0;32mreturn\u001b[0m \u001b[0mcls\u001b[0m\u001b[0;34m.\u001b[0m\u001b[0m_from_signer_and_info\u001b[0m\u001b[0;34m(\u001b[0m\u001b[0msigner\u001b[0m\u001b[0;34m,\u001b[0m \u001b[0minfo\u001b[0m\u001b[0;34m,\u001b[0m \u001b[0;34m**\u001b[0m\u001b[0mkwargs\u001b[0m\u001b[0;34m)\u001b[0m\u001b[0;34m\u001b[0m\u001b[0;34m\u001b[0m\u001b[0m\n",
      "\u001b[0;32m~/.local/share/virtualenvs/airtable-scripts-oewuQlhV/lib/python3.6/site-packages/google/auth/_service_account_info.py\u001b[0m in \u001b[0;36mfrom_filename\u001b[0;34m(filename, require)\u001b[0m\n\u001b[1;32m     70\u001b[0m             \u001b[0minfo\u001b[0m \u001b[0;32mand\u001b[0m \u001b[0ma\u001b[0m \u001b[0msigner\u001b[0m \u001b[0minstance\u001b[0m\u001b[0;34m.\u001b[0m\u001b[0;34m\u001b[0m\u001b[0;34m\u001b[0m\u001b[0m\n\u001b[1;32m     71\u001b[0m     \"\"\"\n\u001b[0;32m---> 72\u001b[0;31m     \u001b[0;32mwith\u001b[0m \u001b[0mio\u001b[0m\u001b[0;34m.\u001b[0m\u001b[0mopen\u001b[0m\u001b[0;34m(\u001b[0m\u001b[0mfilename\u001b[0m\u001b[0;34m,\u001b[0m \u001b[0;34m\"r\"\u001b[0m\u001b[0;34m,\u001b[0m \u001b[0mencoding\u001b[0m\u001b[0;34m=\u001b[0m\u001b[0;34m\"utf-8\"\u001b[0m\u001b[0;34m)\u001b[0m \u001b[0;32mas\u001b[0m \u001b[0mjson_file\u001b[0m\u001b[0;34m:\u001b[0m\u001b[0;34m\u001b[0m\u001b[0;34m\u001b[0m\u001b[0m\n\u001b[0m\u001b[1;32m     73\u001b[0m         \u001b[0mdata\u001b[0m \u001b[0;34m=\u001b[0m \u001b[0mjson\u001b[0m\u001b[0;34m.\u001b[0m\u001b[0mload\u001b[0m\u001b[0;34m(\u001b[0m\u001b[0mjson_file\u001b[0m\u001b[0;34m)\u001b[0m\u001b[0;34m\u001b[0m\u001b[0;34m\u001b[0m\u001b[0m\n\u001b[1;32m     74\u001b[0m         \u001b[0;32mreturn\u001b[0m \u001b[0mdata\u001b[0m\u001b[0;34m,\u001b[0m \u001b[0mfrom_dict\u001b[0m\u001b[0;34m(\u001b[0m\u001b[0mdata\u001b[0m\u001b[0;34m,\u001b[0m \u001b[0mrequire\u001b[0m\u001b[0;34m=\u001b[0m\u001b[0mrequire\u001b[0m\u001b[0;34m)\u001b[0m\u001b[0;34m\u001b[0m\u001b[0;34m\u001b[0m\u001b[0m\n",
      "\u001b[0;31mFileNotFoundError\u001b[0m: [Errno 2] No such file or directory: './service-account-credentials.json'"
     ]
    }
   ],
   "source": [
    "import src.calendar_request as cal\n",
    "import os\n",
    "CALENDAR_ID = os.getenv('CALENDAR_ID')\n",
    "c = cal.Calendar(CALENDAR_ID)\n",
    "body = {\n",
    "    'id': '20aa7ea9-3f00-4a71-9c77-014fe412f551',\n",
    "    'type': 'web_hook',\n",
    "    'address': 'https://gcal-webhook.herokuapp.com/webhook',\n",
    "    'expiration': 1641060000000\n",
    "}\n",
    "c.service.events().watch(calendarId=CALENDAR_ID, body=body).execute()"
   ]
  },
  {
   "cell_type": "code",
   "execution_count": null,
   "metadata": {},
   "outputs": [],
   "source": []
  }
 ]
}